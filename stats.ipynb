{
 "cells": [
  {
   "cell_type": "code",
   "execution_count": 1,
   "metadata": {},
   "outputs": [],
   "source": [
    "import aggregate\n",
    "\n",
    "aggregate.main()"
   ]
  },
  {
   "cell_type": "code",
   "execution_count": 2,
   "metadata": {},
   "outputs": [],
   "source": [
    "import pandas as pd\n",
    "import aggregate\n",
    "\n",
    "df = pd.read_csv(aggregate.PATH)"
   ]
  },
  {
   "cell_type": "code",
   "execution_count": 3,
   "metadata": {},
   "outputs": [
    {
     "data": {
      "text/html": [
       "\n",
       "<div id=\"altair-viz-58e8d5130bc14d739cd752617fde4f50\"></div>\n",
       "<script type=\"text/javascript\">\n",
       "  (function(spec, embedOpt){\n",
       "    let outputDiv = document.currentScript.previousElementSibling;\n",
       "    if (outputDiv.id !== \"altair-viz-58e8d5130bc14d739cd752617fde4f50\") {\n",
       "      outputDiv = document.getElementById(\"altair-viz-58e8d5130bc14d739cd752617fde4f50\");\n",
       "    }\n",
       "    const paths = {\n",
       "      \"vega\": \"https://cdn.jsdelivr.net/npm//vega@5?noext\",\n",
       "      \"vega-lib\": \"https://cdn.jsdelivr.net/npm//vega-lib?noext\",\n",
       "      \"vega-lite\": \"https://cdn.jsdelivr.net/npm//vega-lite@4.8.1?noext\",\n",
       "      \"vega-embed\": \"https://cdn.jsdelivr.net/npm//vega-embed@6?noext\",\n",
       "    };\n",
       "\n",
       "    function loadScript(lib) {\n",
       "      return new Promise(function(resolve, reject) {\n",
       "        var s = document.createElement('script');\n",
       "        s.src = paths[lib];\n",
       "        s.async = true;\n",
       "        s.onload = () => resolve(paths[lib]);\n",
       "        s.onerror = () => reject(`Error loading script: ${paths[lib]}`);\n",
       "        document.getElementsByTagName(\"head\")[0].appendChild(s);\n",
       "      });\n",
       "    }\n",
       "\n",
       "    function showError(err) {\n",
       "      outputDiv.innerHTML = `<div class=\"error\" style=\"color:red;\">${err}</div>`;\n",
       "      throw err;\n",
       "    }\n",
       "\n",
       "    function displayChart(vegaEmbed) {\n",
       "      vegaEmbed(outputDiv, spec, embedOpt)\n",
       "        .catch(err => showError(`Javascript Error: ${err.message}<br>This usually means there's a typo in your chart specification. See the javascript console for the full traceback.`));\n",
       "    }\n",
       "\n",
       "    if(typeof define === \"function\" && define.amd) {\n",
       "      requirejs.config({paths});\n",
       "      require([\"vega-embed\"], displayChart, err => showError(`Error loading script: ${err.message}`));\n",
       "    } else if (typeof vegaEmbed === \"function\") {\n",
       "      displayChart(vegaEmbed);\n",
       "    } else {\n",
       "      loadScript(\"vega\")\n",
       "        .then(() => loadScript(\"vega-lite\"))\n",
       "        .then(() => loadScript(\"vega-embed\"))\n",
       "        .catch(showError)\n",
       "        .then(() => displayChart(vegaEmbed));\n",
       "    }\n",
       "  })({\"config\": {\"view\": {\"continuousWidth\": 400, \"continuousHeight\": 300}}, \"data\": {\"name\": \"data-d5753c159033f8cc11b20a2c5ab62d46\"}, \"mark\": \"bar\", \"encoding\": {\"tooltip\": [{\"type\": \"nominal\", \"field\": \"name\"}, {\"type\": \"quantitative\", \"field\": \"project_count\"}], \"x\": {\"type\": \"nominal\", \"field\": \"name\", \"sort\": \"-y\"}, \"y\": {\"type\": \"quantitative\", \"field\": \"project_count\"}}, \"title\": \"Modules by project usage count\", \"$schema\": \"https://vega.github.io/schema/vega-lite/v4.8.1.json\", \"datasets\": {\"data-d5753c159033f8cc11b20a2c5ab62d46\": [{\"name\": \"__future__\", \"category\": \"__future__\", \"project_count\": 1547}, {\"name\": \"_thread\", \"category\": \"concurrency\", \"project_count\": 80}, {\"name\": \"abc\", \"category\": \"python\", \"project_count\": 604}, {\"name\": \"aifc\", \"category\": \"mm\", \"project_count\": 2}, {\"name\": \"antigravity\", \"category\": \"eastereggs\", \"project_count\": 0}, {\"name\": \"argparse\", \"category\": \"allos\", \"project_count\": 703}, {\"name\": \"array\", \"category\": \"datatypes\", \"project_count\": 183}, {\"name\": \"ast\", \"category\": \"language\", \"project_count\": 336}, {\"name\": \"asynchat\", \"category\": \"ipc\", \"project_count\": 5}, {\"name\": \"asyncio\", \"category\": \"ipc\", \"project_count\": 298}, {\"name\": \"asyncore\", \"category\": \"ipc\", \"project_count\": 19}, {\"name\": \"atexit\", \"category\": \"python\", \"project_count\": 256}, {\"name\": \"audioop\", \"category\": \"mm\", \"project_count\": 3}, {\"name\": \"base64\", \"category\": \"netdata\", \"project_count\": 676}, {\"name\": \"bdb\", \"category\": \"debug\", \"project_count\": 7}, {\"name\": \"binascii\", \"category\": \"netdata\", \"project_count\": 321}, {\"name\": \"binhex\", \"category\": \"netdata\", \"project_count\": 0}, {\"name\": \"bisect\", \"category\": \"datatypes\", \"project_count\": 125}, {\"name\": \"builtins\", \"category\": \"python\", \"project_count\": 334}, {\"name\": \"bz2\", \"category\": \"archiving\", \"project_count\": 89}, {\"name\": \"cProfile\", \"category\": \"debug\", \"project_count\": 80}, {\"name\": \"calendar\", \"category\": \"datatypes\", \"project_count\": 202}, {\"name\": \"cgi\", \"category\": \"internet\", \"project_count\": 124}, {\"name\": \"cgitb\", \"category\": \"internet\", \"project_count\": 4}, {\"name\": \"chunk\", \"category\": \"mm\", \"project_count\": 0}, {\"name\": \"cmath\", \"category\": \"numeric\", \"project_count\": 11}, {\"name\": \"cmd\", \"category\": \"frameworks\", \"project_count\": 24}, {\"name\": \"code\", \"category\": \"custominterp\", \"project_count\": 66}, {\"name\": \"codecs\", \"category\": \"binary\", \"project_count\": 767}, {\"name\": \"codeop\", \"category\": \"custominterp\", \"project_count\": 9}, {\"name\": \"collections\", \"category\": \"datatypes\", \"project_count\": 1752}, {\"name\": \"colorsys\", \"category\": \"mm\", \"project_count\": 34}, {\"name\": \"compileall\", \"category\": \"language\", \"project_count\": 11}, {\"name\": \"concurrent\", \"category\": \"concurrency\", \"project_count\": 195}, {\"name\": \"configparser\", \"category\": \"fileformats\", \"project_count\": 303}, {\"name\": \"contextlib\", \"category\": \"python\", \"project_count\": 864}, {\"name\": \"contextvars\", \"category\": \"concurrency\", \"project_count\": 39}, {\"name\": \"copy\", \"category\": \"datatypes\", \"project_count\": 1002}, {\"name\": \"copyreg\", \"category\": \"persistence\", \"project_count\": 47}, {\"name\": \"crypt\", \"category\": \"unix\", \"project_count\": 12}, {\"name\": \"csv\", \"category\": \"fileformats\", \"project_count\": 207}, {\"name\": \"ctypes\", \"category\": \"allos\", \"project_count\": 365}, {\"name\": \"curses\", \"category\": \"allos\", \"project_count\": 45}, {\"name\": \"dataclasses\", \"category\": \"python\", \"project_count\": 64}, {\"name\": \"datetime\", \"category\": \"datatypes\", \"project_count\": 1449}, {\"name\": \"dbm\", \"category\": \"persistence\", \"project_count\": 20}, {\"name\": \"decimal\", \"category\": \"numeric\", \"project_count\": 345}, {\"name\": \"difflib\", \"category\": \"text\", \"project_count\": 147}, {\"name\": \"dis\", \"category\": \"language\", \"project_count\": 39}, {\"name\": \"distutils\", \"category\": \"distribution\", \"project_count\": 1176}, {\"name\": \"doctest\", \"category\": \"development\", \"project_count\": 227}, {\"name\": \"email\", \"category\": \"netdata\", \"project_count\": 182}, {\"name\": \"encodings\", \"category\": \"binary\", \"project_count\": 36}, {\"name\": \"ensurepip\", \"category\": \"distribution\", \"project_count\": 1}, {\"name\": \"enum\", \"category\": \"datatypes\", \"project_count\": 509}, {\"name\": \"errno\", \"category\": \"allos\", \"project_count\": 550}, {\"name\": \"faulthandler\", \"category\": \"debug\", \"project_count\": 17}, {\"name\": \"fcntl\", \"category\": \"unix\", \"project_count\": 156}, {\"name\": \"filecmp\", \"category\": \"filesys\", \"project_count\": 43}, {\"name\": \"fileinput\", \"category\": \"filesys\", \"project_count\": 30}, {\"name\": \"fnmatch\", \"category\": \"filesys\", \"project_count\": 247}, {\"name\": \"fractions\", \"category\": \"numeric\", \"project_count\": 53}, {\"name\": \"ftplib\", \"category\": \"internet\", \"project_count\": 27}, {\"name\": \"functools\", \"category\": \"functional\", \"project_count\": 1424}, {\"name\": \"gc\", \"category\": \"python\", \"project_count\": 280}, {\"name\": \"getopt\", \"category\": \"allos\", \"project_count\": 94}, {\"name\": \"getpass\", \"category\": \"allos\", \"project_count\": 183}, {\"name\": \"gettext\", \"category\": \"i18n\", \"project_count\": 56}, {\"name\": \"glob\", \"category\": \"filesys\", \"project_count\": 518}, {\"name\": \"graphlib\", \"category\": \"datatypes\", \"project_count\": 0}, {\"name\": \"grp\", \"category\": \"unix\", \"project_count\": 48}, {\"name\": \"gzip\", \"category\": \"archiving\", \"project_count\": 234}, {\"name\": \"hashlib\", \"category\": \"crypto\", \"project_count\": 708}, {\"name\": \"heapq\", \"category\": \"datatypes\", \"project_count\": 113}, {\"name\": \"hmac\", \"category\": \"crypto\", \"project_count\": 204}, {\"name\": \"html\", \"category\": \"markup\", \"project_count\": 155}, {\"name\": \"http\", \"category\": \"internet\", \"project_count\": 265}, {\"name\": \"idlelib\", \"category\": \"tk\", \"project_count\": 4}, {\"name\": \"imaplib\", \"category\": \"internet\", \"project_count\": 8}, {\"name\": \"imghdr\", \"category\": \"mm\", \"project_count\": 18}, {\"name\": \"imp\", \"category\": \"superseded\", \"project_count\": 202}, {\"name\": \"importlib\", \"category\": \"modules\", \"project_count\": 600}, {\"name\": \"inspect\", \"category\": \"python\", \"project_count\": 883}, {\"name\": \"io\", \"category\": \"allos\", \"project_count\": 1542}, {\"name\": \"ipaddress\", \"category\": \"internet\", \"project_count\": 89}, {\"name\": \"itertools\", \"category\": \"functional\", \"project_count\": 1043}, {\"name\": \"json\", \"category\": \"netdata\", \"project_count\": 1460}, {\"name\": \"keyword\", \"category\": \"language\", \"project_count\": 80}, {\"name\": \"lib2to3\", \"category\": \"development\", \"project_count\": 26}, {\"name\": \"linecache\", \"category\": \"filesys\", \"project_count\": 65}, {\"name\": \"locale\", \"category\": \"i18n\", \"project_count\": 209}, {\"name\": \"logging\", \"category\": \"allos\", \"project_count\": 1395}, {\"name\": \"lzma\", \"category\": \"archiving\", \"project_count\": 40}, {\"name\": \"mailbox\", \"category\": \"netdata\", \"project_count\": 5}, {\"name\": \"mailcap\", \"category\": \"netdata\", \"project_count\": 0}, {\"name\": \"marshal\", \"category\": \"persistence\", \"project_count\": 49}, {\"name\": \"math\", \"category\": \"numeric\", \"project_count\": 765}, {\"name\": \"mimetypes\", \"category\": \"netdata\", \"project_count\": 158}, {\"name\": \"mmap\", \"category\": \"ipc\", \"project_count\": 57}, {\"name\": \"modulefinder\", \"category\": \"modules\", \"project_count\": 4}, {\"name\": \"msilib\", \"category\": \"windows\", \"project_count\": 3}, {\"name\": \"msvcrt\", \"category\": \"windows\", \"project_count\": 96}, {\"name\": \"multiprocessing\", \"category\": \"concurrency\", \"project_count\": 412}, {\"name\": \"netrc\", \"category\": \"fileformats\", \"project_count\": 18}, {\"name\": \"nis\", \"category\": \"unix\", \"project_count\": 0}, {\"name\": \"nntplib\", \"category\": \"internet\", \"project_count\": 2}, {\"name\": \"numbers\", \"category\": \"numeric\", \"project_count\": 242}, {\"name\": \"operator\", \"category\": \"functional\", \"project_count\": 613}, {\"name\": \"optparse\", \"category\": \"superseded\", \"project_count\": 284}, {\"name\": \"os\", \"category\": \"filesys\", \"project_count\": 3180}, {\"name\": \"ossaudiodev\", \"category\": \"mm\", \"project_count\": 1}, {\"name\": \"pathlib\", \"category\": \"filesys\", \"project_count\": 418}, {\"name\": \"pdb\", \"category\": \"debug\", \"project_count\": 87}, {\"name\": \"pickle\", \"category\": \"persistence\", \"project_count\": 564}, {\"name\": \"pickletools\", \"category\": \"language\", \"project_count\": 10}, {\"name\": \"pipes\", \"category\": \"unix\", \"project_count\": 56}, {\"name\": \"pkgutil\", \"category\": \"modules\", \"project_count\": 199}, {\"name\": \"platform\", \"category\": \"allos\", \"project_count\": 743}, {\"name\": \"plistlib\", \"category\": \"fileformats\", \"project_count\": 84}, {\"name\": \"poplib\", \"category\": \"internet\", \"project_count\": 1}, {\"name\": \"posix\", \"category\": \"unix\", \"project_count\": 12}, {\"name\": \"pprint\", \"category\": \"datatypes\", \"project_count\": 329}, {\"name\": \"profile\", \"category\": \"debug\", \"project_count\": 31}, {\"name\": \"pstats\", \"category\": \"debug\", \"project_count\": 58}, {\"name\": \"pty\", \"category\": \"unix\", \"project_count\": 31}, {\"name\": \"pwd\", \"category\": \"unix\", \"project_count\": 83}, {\"name\": \"py_compile\", \"category\": \"language\", \"project_count\": 20}, {\"name\": \"pyclbr\", \"category\": \"language\", \"project_count\": 0}, {\"name\": \"pydoc\", \"category\": \"development\", \"project_count\": 42}, {\"name\": \"queue\", \"category\": \"concurrency\", \"project_count\": 248}, {\"name\": \"quopri\", \"category\": \"netdata\", \"project_count\": 4}, {\"name\": \"random\", \"category\": \"numeric\", \"project_count\": 881}, {\"name\": \"re\", \"category\": \"text\", \"project_count\": 2310}, {\"name\": \"readline\", \"category\": \"text\", \"project_count\": 49}, {\"name\": \"reprlib\", \"category\": \"datatypes\", \"project_count\": 23}, {\"name\": \"resource\", \"category\": \"unix\", \"project_count\": 75}, {\"name\": \"rlcompleter\", \"category\": \"text\", \"project_count\": 12}, {\"name\": \"runpy\", \"category\": \"modules\", \"project_count\": 52}, {\"name\": \"sched\", \"category\": \"concurrency\", \"project_count\": 5}, {\"name\": \"secrets\", \"category\": \"crypto\", \"project_count\": 30}, {\"name\": \"select\", \"category\": \"ipc\", \"project_count\": 191}, {\"name\": \"selectors\", \"category\": \"ipc\", \"project_count\": 27}, {\"name\": \"shelve\", \"category\": \"persistence\", \"project_count\": 21}, {\"name\": \"shlex\", \"category\": \"frameworks\", \"project_count\": 349}, {\"name\": \"shutil\", \"category\": \"filesys\", \"project_count\": 958}, {\"name\": \"signal\", \"category\": \"ipc\", \"project_count\": 354}, {\"name\": \"site\", \"category\": \"python\", \"project_count\": 84}, {\"name\": \"smtpd\", \"category\": \"internet\", \"project_count\": 6}, {\"name\": \"smtplib\", \"category\": \"internet\", \"project_count\": 32}, {\"name\": \"sndhdr\", \"category\": \"mm\", \"project_count\": 1}, {\"name\": \"socket\", \"category\": \"ipc\", \"project_count\": 616}, {\"name\": \"socketserver\", \"category\": \"internet\", \"project_count\": 60}, {\"name\": \"spwd\", \"category\": \"unix\", \"project_count\": 4}, {\"name\": \"sqlite3\", \"category\": \"persistence\", \"project_count\": 86}, {\"name\": \"ssl\", \"category\": \"ipc\", \"project_count\": 283}, {\"name\": \"stat\", \"category\": \"filesys\", \"project_count\": 240}, {\"name\": \"statistics\", \"category\": \"numeric\", \"project_count\": 21}, {\"name\": \"string\", \"category\": \"text\", \"project_count\": 553}, {\"name\": \"stringprep\", \"category\": \"text\", \"project_count\": 11}, {\"name\": \"struct\", \"category\": \"binary\", \"project_count\": 572}, {\"name\": \"subprocess\", \"category\": \"concurrency\", \"project_count\": 1101}, {\"name\": \"sunau\", \"category\": \"mm\", \"project_count\": 1}, {\"name\": \"symtable\", \"category\": \"language\", \"project_count\": 2}, {\"name\": \"sys\", \"category\": \"python\", \"project_count\": 2975}, {\"name\": \"sysconfig\", \"category\": \"python\", \"project_count\": 145}, {\"name\": \"syslog\", \"category\": \"unix\", \"project_count\": 11}, {\"name\": \"tabnanny\", \"category\": \"language\", \"project_count\": 1}, {\"name\": \"tarfile\", \"category\": \"archiving\", \"project_count\": 196}, {\"name\": \"telnetlib\", \"category\": \"internet\", \"project_count\": 12}, {\"name\": \"tempfile\", \"category\": \"filesys\", \"project_count\": 1081}, {\"name\": \"termios\", \"category\": \"unix\", \"project_count\": 88}, {\"name\": \"textwrap\", \"category\": \"text\", \"project_count\": 516}, {\"name\": \"this\", \"category\": \"eastereggs\", \"project_count\": 3}, {\"name\": \"threading\", \"category\": \"concurrency\", \"project_count\": 930}, {\"name\": \"time\", \"category\": \"allos\", \"project_count\": 1587}, {\"name\": \"timeit\", \"category\": \"debug\", \"project_count\": 137}, {\"name\": \"tkinter\", \"category\": \"tk\", \"project_count\": 46}, {\"name\": \"token\", \"category\": \"language\", \"project_count\": 24}, {\"name\": \"tokenize\", \"category\": \"language\", \"project_count\": 118}, {\"name\": \"trace\", \"category\": \"debug\", \"project_count\": 9}, {\"name\": \"traceback\", \"category\": \"python\", \"project_count\": 630}, {\"name\": \"tracemalloc\", \"category\": \"debug\", \"project_count\": 17}, {\"name\": \"tty\", \"category\": \"unix\", \"project_count\": 35}, {\"name\": \"turtle\", \"category\": \"frameworks\", \"project_count\": 3}, {\"name\": \"turtledemo\", \"category\": \"frameworks\", \"project_count\": 0}, {\"name\": \"types\", \"category\": \"datatypes\", \"project_count\": 701}, {\"name\": \"typing\", \"category\": \"development\", \"project_count\": 721}, {\"name\": \"unicodedata\", \"category\": \"text\", \"project_count\": 191}, {\"name\": \"unittest\", \"category\": \"development\", \"project_count\": 1580}, {\"name\": \"urllib\", \"category\": \"internet\", \"project_count\": 938}, {\"name\": \"uu\", \"category\": \"netdata\", \"project_count\": 1}, {\"name\": \"uuid\", \"category\": \"internet\", \"project_count\": 670}, {\"name\": \"venv\", \"category\": \"distribution\", \"project_count\": 7}, {\"name\": \"warnings\", \"category\": \"python\", \"project_count\": 1409}, {\"name\": \"wave\", \"category\": \"mm\", \"project_count\": 11}, {\"name\": \"weakref\", \"category\": \"datatypes\", \"project_count\": 342}, {\"name\": \"webbrowser\", \"category\": \"internet\", \"project_count\": 108}, {\"name\": \"winreg\", \"category\": \"windows\", \"project_count\": 60}, {\"name\": \"winsound\", \"category\": \"windows\", \"project_count\": 0}, {\"name\": \"wsgiref\", \"category\": \"internet\", \"project_count\": 74}, {\"name\": \"xdrlib\", \"category\": \"fileformats\", \"project_count\": 2}, {\"name\": \"xml\", \"category\": \"markup\", \"project_count\": 342}, {\"name\": \"xmlrpc\", \"category\": \"internet\", \"project_count\": 51}, {\"name\": \"zipapp\", \"category\": \"distribution\", \"project_count\": 2}, {\"name\": \"zipfile\", \"category\": \"archiving\", \"project_count\": 273}, {\"name\": \"zipimport\", \"category\": \"modules\", \"project_count\": 28}, {\"name\": \"zlib\", \"category\": \"archiving\", \"project_count\": 247}, {\"name\": \"zoneinfo\", \"category\": \"datatypes\", \"project_count\": 7}]}}, {\"mode\": \"vega-lite\"});\n",
       "</script>"
      ],
      "text/plain": [
       "alt.Chart(...)"
      ]
     },
     "execution_count": 3,
     "metadata": {},
     "output_type": "execute_result"
    }
   ],
   "source": [
    "import altair as alt\n",
    "\n",
    "alt.Chart(df).mark_bar().encode(\n",
    "    alt.X(\"name:N\", sort=\"-y\"),\n",
    "    alt.Y(\"project_count:Q\"),\n",
    "    tooltip=[\"name\", \"project_count\"]\n",
    ").properties(\n",
    "    title=\"Modules by project usage count\"\n",
    ")"
   ]
  },
  {
   "cell_type": "code",
   "execution_count": 4,
   "metadata": {},
   "outputs": [
    {
     "data": {
      "text/html": [
       "\n",
       "<div id=\"altair-viz-e3c65e49c6fb490c9b1396f64e5ea015\"></div>\n",
       "<script type=\"text/javascript\">\n",
       "  (function(spec, embedOpt){\n",
       "    let outputDiv = document.currentScript.previousElementSibling;\n",
       "    if (outputDiv.id !== \"altair-viz-e3c65e49c6fb490c9b1396f64e5ea015\") {\n",
       "      outputDiv = document.getElementById(\"altair-viz-e3c65e49c6fb490c9b1396f64e5ea015\");\n",
       "    }\n",
       "    const paths = {\n",
       "      \"vega\": \"https://cdn.jsdelivr.net/npm//vega@5?noext\",\n",
       "      \"vega-lib\": \"https://cdn.jsdelivr.net/npm//vega-lib?noext\",\n",
       "      \"vega-lite\": \"https://cdn.jsdelivr.net/npm//vega-lite@4.8.1?noext\",\n",
       "      \"vega-embed\": \"https://cdn.jsdelivr.net/npm//vega-embed@6?noext\",\n",
       "    };\n",
       "\n",
       "    function loadScript(lib) {\n",
       "      return new Promise(function(resolve, reject) {\n",
       "        var s = document.createElement('script');\n",
       "        s.src = paths[lib];\n",
       "        s.async = true;\n",
       "        s.onload = () => resolve(paths[lib]);\n",
       "        s.onerror = () => reject(`Error loading script: ${paths[lib]}`);\n",
       "        document.getElementsByTagName(\"head\")[0].appendChild(s);\n",
       "      });\n",
       "    }\n",
       "\n",
       "    function showError(err) {\n",
       "      outputDiv.innerHTML = `<div class=\"error\" style=\"color:red;\">${err}</div>`;\n",
       "      throw err;\n",
       "    }\n",
       "\n",
       "    function displayChart(vegaEmbed) {\n",
       "      vegaEmbed(outputDiv, spec, embedOpt)\n",
       "        .catch(err => showError(`Javascript Error: ${err.message}<br>This usually means there's a typo in your chart specification. See the javascript console for the full traceback.`));\n",
       "    }\n",
       "\n",
       "    if(typeof define === \"function\" && define.amd) {\n",
       "      requirejs.config({paths});\n",
       "      require([\"vega-embed\"], displayChart, err => showError(`Error loading script: ${err.message}`));\n",
       "    } else if (typeof vegaEmbed === \"function\") {\n",
       "      displayChart(vegaEmbed);\n",
       "    } else {\n",
       "      loadScript(\"vega\")\n",
       "        .then(() => loadScript(\"vega-lite\"))\n",
       "        .then(() => loadScript(\"vega-embed\"))\n",
       "        .catch(showError)\n",
       "        .then(() => displayChart(vegaEmbed));\n",
       "    }\n",
       "  })({\"config\": {\"view\": {\"continuousWidth\": 400, \"continuousHeight\": 300}}, \"data\": {\"name\": \"data-b31c668d97fb368a0b06fa6e670b8fb3\"}, \"mark\": \"bar\", \"encoding\": {\"tooltip\": [{\"type\": \"nominal\", \"field\": \"category\"}, {\"type\": \"quantitative\", \"field\": \"project_count\"}], \"x\": {\"type\": \"nominal\", \"field\": \"category\", \"sort\": \"-y\"}, \"y\": {\"type\": \"quantitative\", \"field\": \"project_count\"}}, \"title\": \"Categories by project usage count summed across all modules in the category\", \"$schema\": \"https://vega.github.io/schema/vega-lite/v4.8.1.json\", \"datasets\": {\"data-b31c668d97fb368a0b06fa6e670b8fb3\": [{\"category\": \"__future__\", \"project_count\": 1547}, {\"category\": \"allos\", \"project_count\": 7207}, {\"category\": \"archiving\", \"project_count\": 1079}, {\"category\": \"binary\", \"project_count\": 1375}, {\"category\": \"concurrency\", \"project_count\": 3010}, {\"category\": \"crypto\", \"project_count\": 942}, {\"category\": \"custominterp\", \"project_count\": 75}, {\"category\": \"datatypes\", \"project_count\": 6737}, {\"category\": \"debug\", \"project_count\": 443}, {\"category\": \"development\", \"project_count\": 2596}, {\"category\": \"distribution\", \"project_count\": 1186}, {\"category\": \"eastereggs\", \"project_count\": 3}, {\"category\": \"fileformats\", \"project_count\": 614}, {\"category\": \"filesys\", \"project_count\": 6780}, {\"category\": \"frameworks\", \"project_count\": 376}, {\"category\": \"functional\", \"project_count\": 3080}, {\"category\": \"i18n\", \"project_count\": 265}, {\"category\": \"internet\", \"project_count\": 2471}, {\"category\": \"ipc\", \"project_count\": 1850}, {\"category\": \"language\", \"project_count\": 641}, {\"category\": \"markup\", \"project_count\": 497}, {\"category\": \"mm\", \"project_count\": 71}, {\"category\": \"modules\", \"project_count\": 883}, {\"category\": \"netdata\", \"project_count\": 2807}, {\"category\": \"numeric\", \"project_count\": 2318}, {\"category\": \"persistence\", \"project_count\": 787}, {\"category\": \"python\", \"project_count\": 8528}, {\"category\": \"superseded\", \"project_count\": 486}, {\"category\": \"text\", \"project_count\": 3789}, {\"category\": \"tk\", \"project_count\": 50}, {\"category\": \"unix\", \"project_count\": 611}, {\"category\": \"windows\", \"project_count\": 159}]}}, {\"mode\": \"vega-lite\"});\n",
       "</script>"
      ],
      "text/plain": [
       "alt.Chart(...)"
      ]
     },
     "execution_count": 4,
     "metadata": {},
     "output_type": "execute_result"
    }
   ],
   "source": [
    "import altair as alt\n",
    "\n",
    "category_project_count = df.groupby(\"category\").sum().reset_index()\n",
    "category_project_count\n",
    "\n",
    "alt.Chart(category_project_count).mark_bar().encode(\n",
    "    alt.X(\"category:N\", sort=\"-y\"),\n",
    "    alt.Y(\"project_count:Q\"),\n",
    "    tooltip=[\"category\", \"project_count\"]\n",
    ").properties(\n",
    "    title=\"Categories by project usage count summed across all modules in the category\"\n",
    ")"
   ]
  },
  {
   "cell_type": "code",
   "execution_count": 6,
   "metadata": {},
   "outputs": [
    {
     "data": {
      "text/html": [
       "\n",
       "<div id=\"altair-viz-b031f6bc71e64c11a08fb9c15773eae1\"></div>\n",
       "<script type=\"text/javascript\">\n",
       "  (function(spec, embedOpt){\n",
       "    let outputDiv = document.currentScript.previousElementSibling;\n",
       "    if (outputDiv.id !== \"altair-viz-b031f6bc71e64c11a08fb9c15773eae1\") {\n",
       "      outputDiv = document.getElementById(\"altair-viz-b031f6bc71e64c11a08fb9c15773eae1\");\n",
       "    }\n",
       "    const paths = {\n",
       "      \"vega\": \"https://cdn.jsdelivr.net/npm//vega@5?noext\",\n",
       "      \"vega-lib\": \"https://cdn.jsdelivr.net/npm//vega-lib?noext\",\n",
       "      \"vega-lite\": \"https://cdn.jsdelivr.net/npm//vega-lite@4.8.1?noext\",\n",
       "      \"vega-embed\": \"https://cdn.jsdelivr.net/npm//vega-embed@6?noext\",\n",
       "    };\n",
       "\n",
       "    function loadScript(lib) {\n",
       "      return new Promise(function(resolve, reject) {\n",
       "        var s = document.createElement('script');\n",
       "        s.src = paths[lib];\n",
       "        s.async = true;\n",
       "        s.onload = () => resolve(paths[lib]);\n",
       "        s.onerror = () => reject(`Error loading script: ${paths[lib]}`);\n",
       "        document.getElementsByTagName(\"head\")[0].appendChild(s);\n",
       "      });\n",
       "    }\n",
       "\n",
       "    function showError(err) {\n",
       "      outputDiv.innerHTML = `<div class=\"error\" style=\"color:red;\">${err}</div>`;\n",
       "      throw err;\n",
       "    }\n",
       "\n",
       "    function displayChart(vegaEmbed) {\n",
       "      vegaEmbed(outputDiv, spec, embedOpt)\n",
       "        .catch(err => showError(`Javascript Error: ${err.message}<br>This usually means there's a typo in your chart specification. See the javascript console for the full traceback.`));\n",
       "    }\n",
       "\n",
       "    if(typeof define === \"function\" && define.amd) {\n",
       "      requirejs.config({paths});\n",
       "      require([\"vega-embed\"], displayChart, err => showError(`Error loading script: ${err.message}`));\n",
       "    } else if (typeof vegaEmbed === \"function\") {\n",
       "      displayChart(vegaEmbed);\n",
       "    } else {\n",
       "      loadScript(\"vega\")\n",
       "        .then(() => loadScript(\"vega-lite\"))\n",
       "        .then(() => loadScript(\"vega-embed\"))\n",
       "        .catch(showError)\n",
       "        .then(() => displayChart(vegaEmbed));\n",
       "    }\n",
       "  })({\"config\": {\"view\": {\"continuousWidth\": 400, \"continuousHeight\": 300}}, \"data\": {\"name\": \"data-9108ce2f8b249e05b07cf0f08c6d64dc\"}, \"mark\": \"bar\", \"encoding\": {\"tooltip\": [{\"type\": \"nominal\", \"field\": \"category\"}, {\"type\": \"quantitative\", \"field\": \"project_count\"}], \"x\": {\"type\": \"nominal\", \"field\": \"category\", \"sort\": \"-y\"}, \"y\": {\"type\": \"quantitative\", \"field\": \"project_count\"}}, \"title\": \"Categories by project usage\", \"$schema\": \"https://vega.github.io/schema/vega-lite/v4.8.1.json\", \"datasets\": {\"data-9108ce2f8b249e05b07cf0f08c6d64dc\": [{\"category\": \"__future__\", \"project_count\": 1547}, {\"category\": \"allos\", \"project_count\": 2772}, {\"category\": \"archiving\", \"project_count\": 632}, {\"category\": \"binary\", \"project_count\": 1143}, {\"category\": \"concurrency\", \"project_count\": 1692}, {\"category\": \"crypto\", \"project_count\": 724}, {\"category\": \"custominterp\", \"project_count\": 69}, {\"category\": \"datatypes\", \"project_count\": 2679}, {\"category\": \"debug\", \"project_count\": 284}, {\"category\": \"development\", \"project_count\": 2057}, {\"category\": \"distribution\", \"project_count\": 1178}, {\"category\": \"eastereggs\", \"project_count\": 3}, {\"category\": \"fileformats\", \"project_count\": 549}, {\"category\": \"filesys\", \"project_count\": 3211}, {\"category\": \"frameworks\", \"project_count\": 363}, {\"category\": \"functional\", \"project_count\": 1841}, {\"category\": \"i18n\", \"project_count\": 245}, {\"category\": \"internet\", \"project_count\": 1408}, {\"category\": \"ipc\", \"project_count\": 1001}, {\"category\": \"language\", \"project_count\": 446}, {\"category\": \"markup\", \"project_count\": 436}, {\"category\": \"mm\", \"project_count\": 64}, {\"category\": \"modules\", \"project_count\": 715}, {\"category\": \"netdata\", \"project_count\": 1751}, {\"category\": \"numeric\", \"project_count\": 1442}, {\"category\": \"persistence\", \"project_count\": 630}, {\"category\": \"python\", \"project_count\": 3295}, {\"category\": \"superseded\", \"project_count\": 421}, {\"category\": \"text\", \"project_count\": 2459}, {\"category\": \"tk\", \"project_count\": 48}, {\"category\": \"unix\", \"project_count\": 309}, {\"category\": \"windows\", \"project_count\": 147}]}}, {\"mode\": \"vega-lite\"});\n",
       "</script>"
      ],
      "text/plain": [
       "alt.Chart(...)"
      ]
     },
     "execution_count": 6,
     "metadata": {},
     "output_type": "execute_result"
    }
   ],
   "source": [
    "import altair as alt\n",
    "import pandas as pd\n",
    "import aggregate\n",
    "\n",
    "category_usage_df = pd.read_csv(aggregate.CATEGORY_USAGE_PATH)\n",
    "\n",
    "alt.Chart(category_usage_df).mark_bar().encode(\n",
    "    alt.X(\"category:N\", sort=\"-y\"),\n",
    "    alt.Y(\"project_count:Q\"),\n",
    "    tooltip=[\"category\", \"project_count\"]\n",
    ").properties(\n",
    "    title=\"Categories by project usage\"\n",
    ")"
   ]
  },
  {
   "cell_type": "code",
   "execution_count": null,
   "metadata": {},
   "outputs": [],
   "source": []
  }
 ],
 "metadata": {
  "kernelspec": {
   "display_name": "Python 3",
   "language": "python",
   "name": "python3"
  },
  "language_info": {
   "codemirror_mode": {
    "name": "ipython",
    "version": 3
   },
   "file_extension": ".py",
   "mimetype": "text/x-python",
   "name": "python",
   "nbconvert_exporter": "python",
   "pygments_lexer": "ipython3",
   "version": "3.9.2"
  }
 },
 "nbformat": 4,
 "nbformat_minor": 2
}
